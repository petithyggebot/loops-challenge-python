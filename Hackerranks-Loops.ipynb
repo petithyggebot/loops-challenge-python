{
 "cells": [
  {
   "cell_type": "markdown",
   "id": "d74b6caf",
   "metadata": {},
   "source": [
    "Solution 1"
   ]
  },
  {
   "cell_type": "code",
   "execution_count": 8,
   "id": "4eac34bf",
   "metadata": {},
   "outputs": [
    {
     "name": "stdout",
     "output_type": "stream",
     "text": [
      "5\n",
      "0\n",
      "1\n",
      "4\n",
      "9\n",
      "16\n"
     ]
    }
   ],
   "source": [
    "if __name__ == '__main__':\n",
    "    # harcker rank input\n",
    "    n = int(input()) \n",
    "    \n",
    "    #check 1<= n and n<=20\n",
    "    if n >= 1 and n <= 20:\n",
    "        \n",
    "        #select the range of i 1 to 20 included\n",
    "        for i in range(0,n):\n",
    "            # calc the square of i\n",
    "            print(i**2)\n",
    "            \n",
    "    else:\n",
    "        print(\"enter a valid number\")"
   ]
  },
  {
   "cell_type": "markdown",
   "id": "7fcbf4f4",
   "metadata": {},
   "source": [
    "Solution 2"
   ]
  },
  {
   "cell_type": "code",
   "execution_count": 4,
   "id": "381b4793",
   "metadata": {},
   "outputs": [
    {
     "name": "stdout",
     "output_type": "stream",
     "text": [
      "5\n",
      "0\n",
      "1\n",
      "4\n",
      "9\n",
      "16\n"
     ]
    }
   ],
   "source": [
    "n = int(input())\n",
    "\n",
    "print(*[i**2 for i in range(n)], sep='\\n')"
   ]
  },
  {
   "cell_type": "markdown",
   "id": "036b5414",
   "metadata": {},
   "source": [
    "Solution 3"
   ]
  },
  {
   "cell_type": "code",
   "execution_count": 9,
   "id": "0d5163f7",
   "metadata": {},
   "outputs": [
    {
     "name": "stdout",
     "output_type": "stream",
     "text": [
      "5\n",
      "0\n",
      "1\n",
      "4\n",
      "9\n",
      "16\n"
     ]
    }
   ],
   "source": [
    "n = int(input())\n",
    "\n",
    "for i in range(0,n):\n",
    "    print(i**2)"
   ]
  }
 ],
 "metadata": {
  "kernelspec": {
   "display_name": "Python 3",
   "language": "python",
   "name": "python3"
  },
  "language_info": {
   "codemirror_mode": {
    "name": "ipython",
    "version": 3
   },
   "file_extension": ".py",
   "mimetype": "text/x-python",
   "name": "python",
   "nbconvert_exporter": "python",
   "pygments_lexer": "ipython3",
   "version": "3.8.8"
  }
 },
 "nbformat": 4,
 "nbformat_minor": 5
}
